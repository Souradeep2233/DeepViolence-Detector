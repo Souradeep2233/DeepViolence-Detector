{
 "cells": [
  {
   "cell_type": "markdown",
   "metadata": {},
   "source": [
    "# Import Modules"
   ]
  },
  {
   "cell_type": "code",
   "execution_count": 1,
   "metadata": {
    "_cell_guid": "b1076dfc-b9ad-4769-8c92-a6c4dae69d19",
    "_uuid": "8f2839f25d086af736a60e9eeb907d3b93b6e0e5",
    "execution": {
     "iopub.execute_input": "2025-05-29T06:36:15.073488Z",
     "iopub.status.busy": "2025-05-29T06:36:15.073239Z",
     "iopub.status.idle": "2025-05-29T06:36:29.756351Z",
     "shell.execute_reply": "2025-05-29T06:36:29.755632Z",
     "shell.execute_reply.started": "2025-05-29T06:36:15.073469Z"
    },
    "trusted": true
   },
   "outputs": [],
   "source": [
    "import os \n",
    "import numpy as np \n",
    "import pandas as pd\n",
    "import cv2\n",
    "import torch \n",
    "import torch.nn as nn\n",
    "import torch.nn.functional as F\n",
    "from torch.utils.data import DataLoader,Dataset, random_split\n",
    "from glob import glob\n",
    "import torchvision.transforms as T\n",
    "from tqdm import tqdm\n",
    "from torchmetrics import Accuracy"
   ]
  },
  {
   "cell_type": "markdown",
   "metadata": {},
   "source": [
    "# Data Preprocessing "
   ]
  },
  {
   "cell_type": "code",
   "execution_count": 2,
   "metadata": {
    "execution": {
     "iopub.execute_input": "2025-05-29T06:36:29.758160Z",
     "iopub.status.busy": "2025-05-29T06:36:29.757685Z",
     "iopub.status.idle": "2025-05-29T06:36:29.767813Z",
     "shell.execute_reply": "2025-05-29T06:36:29.767036Z",
     "shell.execute_reply.started": "2025-05-29T06:36:29.758137Z"
    },
    "trusted": true
   },
   "outputs": [],
   "source": [
    "class GaussianNoise:\n",
    "    def __init__(self, std=0.03):\n",
    "        self.std = std\n",
    "        \n",
    "    def __call__(self, tensor):\n",
    "        if self.std == 0:\n",
    "            return tensor\n",
    "            # randn samples from normal distribution(mu=0 , std=1)\n",
    "        return tensor + torch.randn(tensor.size()) * self.std\n",
    "        \n",
    "transforms_train=T.Compose([\n",
    "    T.ToPILImage(),\n",
    "    T.Resize((224,224)),\n",
    "    T.ToTensor(),\n",
    "    T.RandomHorizontalFlip(p=.5),\n",
    "    T.ColorJitter(brightness=0.2, contrast=0.2, saturation=0.2, hue=0.1),\n",
    "    T.RandomRotation(15),\n",
    "    T.Normalize(mean=[0.485, 0.456, 0.406],std=[0.229, 0.224, 0.225]), # (mean, Var); Is specified ! As we normalize frames according to mean, var from image net dist, since we'll use pretrained Swin\n",
    "    #mostly trained on imagenet.\n",
    "    GaussianNoise(std=.03)\n",
    "])\n",
    "\n",
    "transforms_val=T.Compose([\n",
    "    T.ToPILImage(),\n",
    "    T.Resize((224,224)),\n",
    "    T.ToTensor(),\n",
    "    T.Normalize(mean=[0.485, 0.456, 0.406],std=[0.229, 0.224, 0.225]),  \n",
    "])\n",
    "\n",
    "        \n",
    "def extract_frames(video,frame_count):\n",
    "    # ~ 30 FPS => !s has 30 frames, so we're considering 16 frames , ~=50% of a frame\n",
    "    # That is >.5s (a moment) , rather than entire frame (redundant)\n",
    "    vid=cv2.VideoCapture(video)\n",
    "    total_frames=int(vid.get(cv2.CAP_PROP_FRAME_COUNT))\n",
    "\n",
    "    # For higher probability to detext cpture from monment , we \n",
    "    # select evenly spaced frames in time series. (Uniform Sampling)\n",
    "\n",
    "    frame_indices=list(torch.linspace(0,total_frames-1,steps=frame_count).long().numpy())\n",
    "    frames=[]\n",
    "    \n",
    "    for i in range(total_frames):\n",
    "        ret, frame = vid.read() # captures each frame\n",
    "        if not ret:\n",
    "            break\n",
    "        if i in frame_indices: # if frame ind considered\n",
    "            frame = cv2.cvtColor(frame,cv2.COLOR_BGR2RGB)  # Convert BGR to RGB\n",
    "            frames.append(frame)\n",
    "            \n",
    "    vid.release()\n",
    "    return frames"
   ]
  },
  {
   "cell_type": "code",
   "execution_count": 3,
   "metadata": {
    "execution": {
     "iopub.execute_input": "2025-05-29T06:36:29.769105Z",
     "iopub.status.busy": "2025-05-29T06:36:29.768777Z",
     "iopub.status.idle": "2025-05-29T06:36:29.809773Z",
     "shell.execute_reply": "2025-05-29T06:36:29.808951Z",
     "shell.execute_reply.started": "2025-05-29T06:36:29.769075Z"
    },
    "trusted": true
   },
   "outputs": [
    {
     "data": {
      "text/plain": [
       "'class YourDataset(Dataset):\\n    def __init(self,...):\\n        #load path, labels, transforms\\n\\n    def __len__(self):\\n        return len(samples)\\n\\n    def __getitem__()'"
      ]
     },
     "execution_count": 3,
     "metadata": {},
     "output_type": "execute_result"
    }
   ],
   "source": [
    "#Pytorch Custom Dataset Template expectation\n",
    "\n",
    "\"\"\"class YourDataset(Dataset):\n",
    "    def __init(self,...):\n",
    "        #load path, labels, transforms\n",
    "\n",
    "    def __len__(self):\n",
    "        return len(samples)\n",
    "\n",
    "    def __getitem__()\"\"\""
   ]
  },
  {
   "cell_type": "code",
   "execution_count": 4,
   "metadata": {
    "execution": {
     "iopub.execute_input": "2025-05-29T06:36:29.811731Z",
     "iopub.status.busy": "2025-05-29T06:36:29.811472Z",
     "iopub.status.idle": "2025-05-29T06:36:29.829568Z",
     "shell.execute_reply": "2025-05-29T06:36:29.828760Z",
     "shell.execute_reply.started": "2025-05-29T06:36:29.811711Z"
    },
    "trusted": true
   },
   "outputs": [],
   "source": [
    "class VD(Dataset):\n",
    "    def __init__(self, video_paths, labels, num_frames=16,train=1):\n",
    "        self.video_paths = video_paths\n",
    "        self.labels = labels\n",
    "        self.num_frames = num_frames\n",
    "        self.train_flag=train\n",
    "\n",
    "    def __len__(self):\n",
    "        return len(self.video_paths)\n",
    "\n",
    "    def __getitem__(self, idx):\n",
    "        video_path = self.video_paths[idx]\n",
    "        label = self.labels[idx]\n",
    "\n",
    "        frames = extract_frames(video_path, self.num_frames)\n",
    "        try:\n",
    "            if self.train_flag==1:\n",
    "                processed_frames = [transforms_train(frame) for frame in frames]\n",
    "            else:\n",
    "                processed_frames = [transforms_val(frame) for frame in frames]\n",
    "            \n",
    "            video_tensor = torch.stack(processed_frames)\n",
    "            # print(processed_frames[0].shape)\n",
    "        \n",
    "        except Exception as e: # Skipping the corrupted videos encountered during training\n",
    "            print(f\"Skipping corrupted video at index {idx}: {e}\")\n",
    "            return self.__getitem__((idx + 1) % len(self))  # try next video\n",
    "\n",
    "        return video_tensor, torch.tensor(label, dtype=torch.long)"
   ]
  },
  {
   "cell_type": "markdown",
   "metadata": {},
   "source": [
    "# Prepare Train , Val , Test Sets"
   ]
  },
  {
   "cell_type": "code",
   "execution_count": 5,
   "metadata": {
    "execution": {
     "iopub.execute_input": "2025-05-29T06:36:29.830734Z",
     "iopub.status.busy": "2025-05-29T06:36:29.830430Z",
     "iopub.status.idle": "2025-05-29T06:36:29.841374Z",
     "shell.execute_reply": "2025-05-29T06:36:29.840491Z",
     "shell.execute_reply.started": "2025-05-29T06:36:29.830714Z"
    },
    "trusted": true
   },
   "outputs": [],
   "source": [
    "def load_split_dataset(root_dir, num_frames=16, train_ratio=0.8, val_ratio=0.195):\n",
    "    import random\n",
    "    samples = []\n",
    "    labels = []\n",
    "    class_map = {\"Violence\":1 , \"NonViolence\":0}\n",
    "\n",
    "    for label_name, label in class_map.items():\n",
    "        folder = os.path.join(root_dir, label_name)\n",
    "        video_files = glob(os.path.join(folder, '*.mp4'))\n",
    "        samples.extend(video_files) # add list to another list using extend\n",
    "        labels.extend([label] * len(video_files))\n",
    "\n",
    "    # Shuffle before splitting\n",
    "    combined = list(zip(samples, labels))\n",
    "    random.shuffle(combined)\n",
    "    samples[:], labels[:] = zip(*combined)\n",
    "\n",
    "    total = len(samples)\n",
    "    train_end = int(total * train_ratio)\n",
    "    val_end = train_end + int(total * val_ratio)\n",
    "\n",
    "    train_dataset = VD(samples[:train_end], labels[:train_end],num_frames,train=1)\n",
    "    val_dataset = VD(samples[train_end:val_end], labels[train_end:val_end],num_frames, train=0)\n",
    "    test_dataset = VD(samples[val_end:], labels[val_end:], num_frames,train=0)\n",
    "\n",
    "    return train_dataset, val_dataset, test_dataset"
   ]
  },
  {
   "cell_type": "code",
   "execution_count": 6,
   "metadata": {
    "execution": {
     "iopub.execute_input": "2025-05-29T06:36:29.842556Z",
     "iopub.status.busy": "2025-05-29T06:36:29.842279Z",
     "iopub.status.idle": "2025-05-29T06:36:29.928555Z",
     "shell.execute_reply": "2025-05-29T06:36:29.927790Z",
     "shell.execute_reply.started": "2025-05-29T06:36:29.842534Z"
    },
    "trusted": true
   },
   "outputs": [],
   "source": [
    "dataset_path=\"/kaggle/input/real-life-violence-situations-dataset/Real Life Violence Dataset\"\n",
    "train_ds, val_ds , test_ds =  load_split_dataset(dataset_path,num_frames=16)\n",
    "\n",
    "train_loader= DataLoader(train_ds,batch_size=4,shuffle=True,num_workers=4)\n",
    "val_loader= DataLoader(val_ds,batch_size=4,shuffle=False , num_workers=4)\n",
    "test_loader=DataLoader(test_ds,batch_size=4,shuffle=False , num_workers=4)"
   ]
  },
  {
   "cell_type": "code",
   "execution_count": 7,
   "metadata": {
    "execution": {
     "iopub.execute_input": "2025-05-29T06:36:29.929645Z",
     "iopub.status.busy": "2025-05-29T06:36:29.929398Z",
     "iopub.status.idle": "2025-05-29T06:36:41.576230Z",
     "shell.execute_reply": "2025-05-29T06:36:41.575122Z",
     "shell.execute_reply.started": "2025-05-29T06:36:29.929619Z"
    },
    "trusted": true
   },
   "outputs": [
    {
     "name": "stdout",
     "output_type": "stream",
     "text": [
      "Train batch shape: torch.Size([4, 16, 3, 224, 224])\n",
      "Train labels: tensor([0, 0, 0, 0])\n",
      "Train batch shape: torch.Size([4, 16, 3, 224, 224])\n",
      "Train labels: tensor([1, 1, 1, 0])\n",
      "Train batch shape: torch.Size([4, 16, 3, 224, 224])\n",
      "Train labels: tensor([1, 1, 0, 1])\n"
     ]
    }
   ],
   "source": [
    "for batch_videos, batch_labels in train_loader:\n",
    "    print(\"Train batch shape:\", batch_videos.shape)  # (B, T, C, H, W)\n",
    "    print(\"Train labels:\", batch_labels)\n",
    "    break\n",
    "for batch_videos, batch_labels in val_loader:\n",
    "    print(\"Train batch shape:\", batch_videos.shape)  # (B, T, C, H, W)\n",
    "    print(\"Train labels:\", batch_labels)\n",
    "    break\n",
    "for batch_videos, batch_labels in test_loader:\n",
    "    print(\"Train batch shape:\", batch_videos.shape)  # (B, T, C, H, W)\n",
    "    print(\"Train labels:\", batch_labels)\n",
    "    break"
   ]
  },
  {
   "cell_type": "markdown",
   "metadata": {},
   "source": [
    "# Model Build"
   ]
  },
  {
   "cell_type": "markdown",
   "metadata": {},
   "source": [
    "**Video-->Normalized Frames ---> Swin S Transformer (Train head , freeze Rest) ---> Prediction**"
   ]
  },
  {
   "cell_type": "code",
   "execution_count": 23,
   "metadata": {
    "execution": {
     "iopub.execute_input": "2025-05-29T06:49:26.842466Z",
     "iopub.status.busy": "2025-05-29T06:49:26.841635Z",
     "iopub.status.idle": "2025-05-29T06:49:27.587464Z",
     "shell.execute_reply": "2025-05-29T06:49:27.586893Z",
     "shell.execute_reply.started": "2025-05-29T06:49:26.842434Z"
    },
    "trusted": true
   },
   "outputs": [
    {
     "name": "stdout",
     "output_type": "stream",
     "text": [
      "cuda\n"
     ]
    }
   ],
   "source": [
    "# An advanced version of swin 2D , here temporal and spatial dependencies are jointly computed, instead of \n",
    "# independent frame by frame computation in swin2D (additional LSTM/Transformer nedded for temporal dependencies).\n",
    "\n",
    "from torchvision.models.video import swin3d_t\n",
    "\n",
    "class VDC(nn.Module):\n",
    "    def __init__(self,num_classes=1):\n",
    "        super(VDC,self).__init__()\n",
    "\n",
    "        self.backbone=swin3d_t(progress=True)\n",
    "\n",
    "        #Freeze the backbone\n",
    "        for params in self.backbone.parameters():\n",
    "            params.requires_grad=False\n",
    "        # Unfreeze the selectives\n",
    "        for name, param in self.backbone.features[6].named_parameters():\n",
    "            param.requires_grad = True\n",
    "\n",
    "    # Unfreeze final normalization layer\n",
    "        for name, param in self.backbone.norm.named_parameters():\n",
    "            param.requires_grad = True\n",
    "            \n",
    "        #By default all layers are requires_grad= True : Train the head\n",
    "        # small head\n",
    "        self.backbone.head=nn.Sequential(\n",
    "            # 768 is a dimensional vector , not feature map alike in CNNs\n",
    "            # [b,t,c,h,w]=====[4,16,224,224]------->[4,16,768,7,7]--->Avg.Pooling---->[768*1] vector dim\n",
    "            nn.Linear( 768, 192), \n",
    "            nn.BatchNorm1d(192),\n",
    "            nn.ReLU(),\n",
    "            nn.Linear(192,32),\n",
    "            nn.BatchNorm1d(32),\n",
    "            nn.ReLU(),\n",
    "            nn.Linear(32,num_classes)\n",
    "            \n",
    "        ) # Freezing weights except the classifier head...-> Will only train the head .\n",
    "\n",
    "    def forward(self,x):\n",
    "        return self.backbone(x).squeeze(1)\n",
    "\n",
    "device= \"cuda\" if torch.cuda.is_available() else \"cpu\"\n",
    "print(device)\n",
    "\n",
    "model=VDC().to(device)"
   ]
  },
  {
   "cell_type": "code",
   "execution_count": 24,
   "metadata": {
    "execution": {
     "iopub.execute_input": "2025-05-29T06:49:31.561781Z",
     "iopub.status.busy": "2025-05-29T06:49:31.561235Z",
     "iopub.status.idle": "2025-05-29T06:49:31.566807Z",
     "shell.execute_reply": "2025-05-29T06:49:31.566009Z",
     "shell.execute_reply.started": "2025-05-29T06:49:31.561755Z"
    },
    "trusted": true
   },
   "outputs": [
    {
     "name": "stdout",
     "output_type": "stream",
     "text": [
      "Trainanble layers are:\n",
      "backbone.features.6.0.norm1.weight\n",
      "backbone.features.6.0.norm1.bias\n",
      "backbone.features.6.0.attn.relative_position_bias_table\n",
      "backbone.features.6.0.attn.qkv.weight\n",
      "backbone.features.6.0.attn.qkv.bias\n",
      "backbone.features.6.0.attn.proj.weight\n",
      "backbone.features.6.0.attn.proj.bias\n",
      "backbone.features.6.0.norm2.weight\n",
      "backbone.features.6.0.norm2.bias\n",
      "backbone.features.6.0.mlp.0.weight\n",
      "backbone.features.6.0.mlp.0.bias\n",
      "backbone.features.6.0.mlp.3.weight\n",
      "backbone.features.6.0.mlp.3.bias\n",
      "backbone.features.6.1.norm1.weight\n",
      "backbone.features.6.1.norm1.bias\n",
      "backbone.features.6.1.attn.relative_position_bias_table\n",
      "backbone.features.6.1.attn.qkv.weight\n",
      "backbone.features.6.1.attn.qkv.bias\n",
      "backbone.features.6.1.attn.proj.weight\n",
      "backbone.features.6.1.attn.proj.bias\n",
      "backbone.features.6.1.norm2.weight\n",
      "backbone.features.6.1.norm2.bias\n",
      "backbone.features.6.1.mlp.0.weight\n",
      "backbone.features.6.1.mlp.0.bias\n",
      "backbone.features.6.1.mlp.3.weight\n",
      "backbone.features.6.1.mlp.3.bias\n",
      "backbone.norm.weight\n",
      "backbone.norm.bias\n",
      "backbone.head.0.weight\n",
      "backbone.head.0.bias\n",
      "backbone.head.1.weight\n",
      "backbone.head.1.bias\n",
      "backbone.head.3.weight\n",
      "backbone.head.3.bias\n",
      "backbone.head.4.weight\n",
      "backbone.head.4.bias\n",
      "backbone.head.6.weight\n",
      "backbone.head.6.bias\n"
     ]
    }
   ],
   "source": [
    "print(\"Trainanble layers are:\")\n",
    "for name, param in model.named_parameters():\n",
    "        if param.requires_grad:\n",
    "            print(name)"
   ]
  },
  {
   "cell_type": "markdown",
   "metadata": {},
   "source": [
    "# Training and Validation"
   ]
  },
  {
   "cell_type": "code",
   "execution_count": null,
   "metadata": {
    "execution": {
     "iopub.execute_input": "2025-05-29T06:51:01.238786Z",
     "iopub.status.busy": "2025-05-29T06:51:01.238021Z",
     "iopub.status.idle": "2025-05-29T08:22:47.178617Z",
     "shell.execute_reply": "2025-05-29T08:22:47.176671Z",
     "shell.execute_reply.started": "2025-05-29T06:51:01.238759Z"
    },
    "trusted": true
   },
   "outputs": [],
   "source": [
    "# Hyper Parameters\n",
    "\n",
    "loss_fn = nn.BCEWithLogitsLoss() # Sigmoid inbuilt , so not used explicitly in the model\n",
    "base_lr=.001\n",
    "optimizer = torch.optim.AdamW([\n",
    "    {\"params\": model.backbone.features[6].parameters(), \"lr\": base_lr * 0.5},\n",
    "    {\"params\": model.backbone.norm.parameters(), \"lr\": base_lr},\n",
    "    {\"params\": model.backbone.head.parameters(), \"lr\": base_lr}\n",
    "], lr=base_lr)\n",
    "scheduler = torch.optim.lr_scheduler.ReduceLROnPlateau(optimizer, mode='min', patience=3, verbose=True)\n",
    "epochs = 100\n",
    "patience = 5\n",
    "best_val_acc = 0.0\n",
    "patience_counter = 0\n",
    "best_model_state = None\n",
    "\n",
    "# Metrics\n",
    "train_metric = Accuracy(task=\"binary\").to(device)\n",
    "val_metric = Accuracy(task=\"binary\").to(device)\n",
    "\n",
    "# Training loop\n",
    "for epoch in range(1, epochs + 1):\n",
    "    model.train()\n",
    "    train_metric.reset()\n",
    "    total_train_loss = 0.0\n",
    "\n",
    "    train_loader_tqdm = tqdm(train_loader, desc=f\"Epoch {epoch}/{epochs} [Training]\", leave=False)\n",
    "    for batch_idx, (x, y) in enumerate(train_loader_tqdm):\n",
    "        x = x.to(device) #[B,T,C,H,W]\n",
    "        y = y.float().to(device) # since all needs to be of same dtype , previously it was long\n",
    "        x=x.permute(0,2,1,3,4).to(device) #[b,c,t,h,w]\n",
    "        \n",
    "        optimizer.zero_grad()\n",
    "        output = model(x)\n",
    "        loss = loss_fn(output, y)\n",
    "        loss.backward()\n",
    "        # nn.utils.clip_grad_norm(model.parameters(),max_norm=1.0)\n",
    "        optimizer.step()\n",
    "\n",
    "        train_metric.update(output, y)\n",
    "        total_train_loss += loss.item()\n",
    "\n",
    "        if (batch_idx + 1) % 10 == 0:\n",
    "            train_loader_tqdm.set_postfix(loss=loss.item())\n",
    "\n",
    "    train_acc = train_metric.compute()\n",
    "    avg_train_loss = total_train_loss / len(train_loader)\n",
    "\n",
    "    # Validation\n",
    "    model.eval()\n",
    "    val_metric.reset()\n",
    "    total_val_loss = 0.0\n",
    "\n",
    "    with torch.no_grad():\n",
    "        val_loader_tqdm = tqdm(val_loader, desc=f\"Epoch {epoch}/{epochs} [Validation]\", leave=False)\n",
    "        for x, y in val_loader_tqdm:\n",
    "            x = x.to(device)\n",
    "            y = y.float().to(device)\n",
    "            x=x.permute(0,2,1,3,4).to(device) #[b,c,t,h,w]\n",
    "            \n",
    "            preds = model(x)\n",
    "            val_loss = loss_fn(preds, y)\n",
    "            total_val_loss += val_loss.item()\n",
    "            val_metric.update(preds, y)\n",
    "\n",
    "    val_acc = val_metric.compute()\n",
    "    avg_val_loss = total_val_loss / len(val_loader)\n",
    "\n",
    "    # Reduce LR scheduler\n",
    "    scheduler.step(avg_val_loss)\n",
    "\n",
    "    # Logging\n",
    "    if epoch % 2 == 0 or epoch == 1:\n",
    "        print(f\"Epoch {epoch}/{epochs} | Train Loss: {avg_train_loss:.4f} | Val Loss: {avg_val_loss:.4f} | \"\n",
    "              f\"Train Acc: {train_acc:.4f} | Val ACC: {val_acc:.4f}\")\n",
    "\n",
    "    # Early stopping\n",
    "    if val_acc > best_val_acc:\n",
    "        best_val_acc = val_acc\n",
    "        patience_counter = 0\n",
    "        best_model_state = model.state_dict()\n",
    "    else:\n",
    "        patience_counter += 1\n",
    "        if patience_counter >= patience:\n",
    "            print(f\"\\nEarly stopping at epoch {epoch}. Best Val ACC: {best_val_acc:.4f}\")\n",
    "            if best_model_state is not None:\n",
    "                torch.save(best_model_state, 'VD_classification.pt')\n",
    "                model.load_state_dict(best_model_state)\n",
    "            break\n",
    "# This is a running notebook ! The best acc sampled was 96% , however this is an experimental version notebook .\n",
    "# Accuracy may vary ! Proper tuning wrt to your dataset can exceed our expected accuracy too !!\n",
    "# Further updates to this repo , will ensure models consistency, and is planned to come up bundled with Zero shot learning capability."
   ]
  },
  {
   "cell_type": "markdown",
   "metadata": {},
   "source": [
    "# Testing"
   ]
  },
  {
   "cell_type": "code",
   "execution_count": null,
   "metadata": {
    "trusted": true
   },
   "outputs": [],
   "source": [
    "with torch.no_grad():\n",
    "    for x, y in test_loader:\n",
    "        x = x.to(device)\n",
    "        y = y.float().to(device)\n",
    "        x=x.permute(0,2,1,3,4).to(device) #[b,c,t,h,w]\n",
    "        \n",
    "        preds = model(x)\n",
    "        predictions=preds.squeeze()\n",
    "        \n",
    "        predictions=torch.sigmoid(predictions) # using sigmoid explicitly for , it's absence in the architecture.\n",
    "        predictions=(predictions>=.5).long()\n",
    "        print(predictions)"
   ]
  }
 ],
 "metadata": {
  "kaggle": {
   "accelerator": "gpu",
   "dataSources": [
    {
     "datasetId": 176381,
     "sourceId": 397693,
     "sourceType": "datasetVersion"
    }
   ],
   "dockerImageVersionId": 31040,
   "isGpuEnabled": true,
   "isInternetEnabled": true,
   "language": "python",
   "sourceType": "notebook"
  },
  "kernelspec": {
   "display_name": "Python 3",
   "language": "python",
   "name": "python3"
  },
  "language_info": {
   "codemirror_mode": {
    "name": "ipython",
    "version": 3
   },
   "file_extension": ".py",
   "mimetype": "text/x-python",
   "name": "python",
   "nbconvert_exporter": "python",
   "pygments_lexer": "ipython3",
   "version": "3.11.11"
  }
 },
 "nbformat": 4,
 "nbformat_minor": 4
}
