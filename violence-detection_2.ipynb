{
 "cells": [
  {
   "cell_type": "markdown",
   "metadata": {},
   "source": [
    "# Import Modules"
   ]
  },
  {
   "cell_type": "code",
   "execution_count": 1,
   "metadata": {
    "_cell_guid": "b1076dfc-b9ad-4769-8c92-a6c4dae69d19",
    "_uuid": "8f2839f25d086af736a60e9eeb907d3b93b6e0e5",
    "execution": {
     "iopub.execute_input": "2025-06-01T12:27:50.163212Z",
     "iopub.status.busy": "2025-06-01T12:27:50.162868Z",
     "iopub.status.idle": "2025-06-01T12:28:03.691122Z",
     "shell.execute_reply": "2025-06-01T12:28:03.690510Z",
     "shell.execute_reply.started": "2025-06-01T12:27:50.163180Z"
    },
    "trusted": true
   },
   "outputs": [],
   "source": [
    "import os \n",
    "import numpy as np \n",
    "import pandas as pd\n",
    "import cv2\n",
    "import torch \n",
    "import torch.nn as nn\n",
    "import torch.nn.functional as F\n",
    "from torch.utils.data import DataLoader,Dataset, random_split\n",
    "from glob import glob\n",
    "import torchvision.transforms as T\n",
    "from tqdm import tqdm\n",
    "from torchmetrics import Accuracy"
   ]
  },
  {
   "cell_type": "markdown",
   "metadata": {},
   "source": [
    "# Data Preprocessing "
   ]
  },
  {
   "cell_type": "code",
   "execution_count": 2,
   "metadata": {
    "execution": {
     "iopub.execute_input": "2025-06-01T12:28:03.692516Z",
     "iopub.status.busy": "2025-06-01T12:28:03.692119Z",
     "iopub.status.idle": "2025-06-01T12:28:03.700640Z",
     "shell.execute_reply": "2025-06-01T12:28:03.699964Z",
     "shell.execute_reply.started": "2025-06-01T12:28:03.692496Z"
    },
    "trusted": true
   },
   "outputs": [],
   "source": [
    "class GaussianNoise:\n",
    "    def __init__(self, std=0.03):\n",
    "        self.std = std\n",
    "        \n",
    "    def __call__(self, tensor):\n",
    "        if self.std == 0:\n",
    "            return tensor\n",
    "            # randn samples from normal distribution(mu=0 , std=1)\n",
    "        return tensor + torch.randn(tensor.size()) * self.std\n",
    "        \n",
    "transforms_train=T.Compose([\n",
    "    T.ToPILImage(),\n",
    "    T.Resize((224,224)),\n",
    "    T.ToTensor(),\n",
    "    T.RandomHorizontalFlip(p=.5),\n",
    "    T.ColorJitter(brightness=0.2, contrast=0.2, saturation=0.2, hue=0.1),\n",
    "    T.RandomRotation(15),\n",
    "    T.Normalize(mean=[0.485, 0.456, 0.406],std=[0.229, 0.224, 0.225]), # (mean, Var); Is specified ! As we normalize frames according to mean, var from image net dist, since we'll use pretrained Swin\n",
    "    #mostly trained on imagenet.\n",
    "    GaussianNoise(std=.03)\n",
    "])\n",
    "\n",
    "transforms_val=T.Compose([\n",
    "    T.ToPILImage(),\n",
    "    T.Resize((224,224)),\n",
    "    T.ToTensor(),\n",
    "    T.Normalize(mean=[0.485, 0.456, 0.406],std=[0.229, 0.224, 0.225]),  \n",
    "])\n",
    "\n",
    "        \n",
    "def extract_frames(video,frame_count):\n",
    "    # ~ 30 FPS => !s has 30 frames, so we're considering 16 frames , ~=50% of a frame\n",
    "    # That is >.5s (a moment) , rather than entire frame (redundant)\n",
    "    vid=cv2.VideoCapture(video)\n",
    "    total_frames=int(vid.get(cv2.CAP_PROP_FRAME_COUNT))\n",
    "\n",
    "    # For higher probability to detext cpture from monment , we \n",
    "    # select evenly spaced frames in time series. (Uniform Sampling)\n",
    "\n",
    "    frame_indices=list(torch.linspace(0,total_frames-1,steps=frame_count).long().numpy())\n",
    "    frames=[]\n",
    "    \n",
    "    for i in range(total_frames):\n",
    "        ret, frame = vid.read() # captures each frame\n",
    "        if not ret:\n",
    "            break\n",
    "        if i in frame_indices: # if frame ind considered\n",
    "            frame = cv2.cvtColor(frame,cv2.COLOR_BGR2RGB)  # Convert BGR to RGB\n",
    "            frames.append(frame)\n",
    "            \n",
    "    vid.release()\n",
    "    return frames"
   ]
  },
  {
   "cell_type": "code",
   "execution_count": 3,
   "metadata": {
    "execution": {
     "iopub.execute_input": "2025-06-01T12:28:03.701503Z",
     "iopub.status.busy": "2025-06-01T12:28:03.701296Z",
     "iopub.status.idle": "2025-06-01T12:28:03.907193Z",
     "shell.execute_reply": "2025-06-01T12:28:03.906469Z",
     "shell.execute_reply.started": "2025-06-01T12:28:03.701486Z"
    },
    "trusted": true
   },
   "outputs": [
    {
     "data": {
      "text/plain": [
       "'class YourDataset(Dataset):\\n    def __init(self,...):\\n        #load path, labels, transforms\\n\\n    def __len__(self):\\n        return len(samples)\\n\\n    def __getitem__()'"
      ]
     },
     "execution_count": 3,
     "metadata": {},
     "output_type": "execute_result"
    }
   ],
   "source": [
    "#Pytorch Custom Dataset Template expectation\n",
    "\n",
    "\"\"\"class YourDataset(Dataset):\n",
    "    def __init(self,...):\n",
    "        #load path, labels, transforms\n",
    "\n",
    "    def __len__(self):\n",
    "        return len(samples)\n",
    "\n",
    "    def __getitem__()\"\"\""
   ]
  },
  {
   "cell_type": "code",
   "execution_count": 4,
   "metadata": {
    "execution": {
     "iopub.execute_input": "2025-06-01T12:28:03.909256Z",
     "iopub.status.busy": "2025-06-01T12:28:03.909030Z",
     "iopub.status.idle": "2025-06-01T12:28:03.922673Z",
     "shell.execute_reply": "2025-06-01T12:28:03.922014Z",
     "shell.execute_reply.started": "2025-06-01T12:28:03.909238Z"
    },
    "trusted": true
   },
   "outputs": [],
   "source": [
    "class VD(Dataset):\n",
    "    def __init__(self, video_paths, labels, num_frames=16,train=1):\n",
    "        self.video_paths = video_paths\n",
    "        self.labels = labels\n",
    "        self.num_frames = num_frames\n",
    "        self.train_flag=train\n",
    "\n",
    "    def __len__(self):\n",
    "        return len(self.video_paths)\n",
    "\n",
    "    def __getitem__(self, idx):\n",
    "        video_path = self.video_paths[idx]\n",
    "        label = self.labels[idx]\n",
    "\n",
    "        frames = extract_frames(video_path, self.num_frames)\n",
    "        try:\n",
    "            if self.train_flag==1:\n",
    "                processed_frames = [transforms_train(frame) for frame in frames]\n",
    "            else:\n",
    "                processed_frames = [transforms_val(frame) for frame in frames]\n",
    "            \n",
    "            video_tensor = torch.stack(processed_frames)\n",
    "            # print(processed_frames[0].shape)\n",
    "        \n",
    "        except Exception as e: # Skipping the corrupted videos encountered during training\n",
    "            print(f\"Skipping corrupted video at index {idx}: {e}\")\n",
    "            return self.__getitem__((idx + 1) % len(self))  # try next video\n",
    "\n",
    "        return video_tensor, torch.tensor(label, dtype=torch.long)"
   ]
  },
  {
   "cell_type": "markdown",
   "metadata": {},
   "source": [
    "# Prepare Train , Val , Test Sets"
   ]
  },
  {
   "cell_type": "code",
   "execution_count": 5,
   "metadata": {
    "execution": {
     "iopub.execute_input": "2025-06-01T12:28:03.923600Z",
     "iopub.status.busy": "2025-06-01T12:28:03.923405Z",
     "iopub.status.idle": "2025-06-01T12:28:03.936935Z",
     "shell.execute_reply": "2025-06-01T12:28:03.936207Z",
     "shell.execute_reply.started": "2025-06-01T12:28:03.923584Z"
    },
    "trusted": true
   },
   "outputs": [],
   "source": [
    "def load_split_dataset(root_dir, num_frames=16, train_ratio=0.8, val_ratio=0.195):\n",
    "    import random\n",
    "    samples = []\n",
    "    labels = []\n",
    "    class_map = {\"Violence\":1 , \"NonViolence\":0}\n",
    "\n",
    "    for label_name, label in class_map.items():\n",
    "        folder = os.path.join(root_dir, label_name)\n",
    "        video_files = glob(os.path.join(folder, '*.mp4'))\n",
    "        samples.extend(video_files) # add list to another list using extend\n",
    "        labels.extend([label] * len(video_files))\n",
    "\n",
    "    # Shuffle before splitting\n",
    "    combined = list(zip(samples, labels))\n",
    "    random.shuffle(combined)\n",
    "    samples[:], labels[:] = zip(*combined)\n",
    "\n",
    "    total = len(samples)\n",
    "    train_end = int(total * train_ratio)\n",
    "    val_end = train_end + int(total * val_ratio)\n",
    "\n",
    "    train_dataset = VD(samples[:train_end], labels[:train_end],num_frames,train=1)\n",
    "    val_dataset = VD(samples[train_end:val_end], labels[train_end:val_end],num_frames, train=0)\n",
    "    test_dataset = VD(samples[val_end:], labels[val_end:], num_frames,train=0)\n",
    "\n",
    "    return train_dataset, val_dataset, test_dataset"
   ]
  },
  {
   "cell_type": "code",
   "execution_count": 6,
   "metadata": {
    "execution": {
     "iopub.execute_input": "2025-06-01T12:28:03.937947Z",
     "iopub.status.busy": "2025-06-01T12:28:03.937721Z",
     "iopub.status.idle": "2025-06-01T12:28:03.991314Z",
     "shell.execute_reply": "2025-06-01T12:28:03.990763Z",
     "shell.execute_reply.started": "2025-06-01T12:28:03.937931Z"
    },
    "trusted": true
   },
   "outputs": [],
   "source": [
    "dataset_path=\"/kaggle/input/real-life-violence-situations-dataset/Real Life Violence Dataset\"\n",
    "train_ds, val_ds , test_ds =  load_split_dataset(dataset_path,num_frames=16)\n",
    "\n",
    "train_loader= DataLoader(train_ds,batch_size=4,shuffle=True,num_workers=4)\n",
    "val_loader= DataLoader(val_ds,batch_size=4,shuffle=False , num_workers=4)\n",
    "test_loader=DataLoader(test_ds,batch_size=4,shuffle=False , num_workers=4)"
   ]
  },
  {
   "cell_type": "code",
   "execution_count": 7,
   "metadata": {
    "execution": {
     "iopub.execute_input": "2025-06-01T12:28:03.992197Z",
     "iopub.status.busy": "2025-06-01T12:28:03.991996Z",
     "iopub.status.idle": "2025-06-01T12:28:15.412631Z",
     "shell.execute_reply": "2025-06-01T12:28:15.411838Z",
     "shell.execute_reply.started": "2025-06-01T12:28:03.992181Z"
    },
    "trusted": true
   },
   "outputs": [
    {
     "name": "stdout",
     "output_type": "stream",
     "text": [
      "Train batch shape: torch.Size([4, 16, 3, 224, 224])\n",
      "Train labels: tensor([0, 1, 0, 1])\n",
      "Train batch shape: torch.Size([4, 16, 3, 224, 224])\n",
      "Train labels: tensor([1, 0, 0, 0])\n",
      "Train batch shape: torch.Size([4, 16, 3, 224, 224])\n",
      "Train labels: tensor([1, 0, 1, 1])\n"
     ]
    }
   ],
   "source": [
    "for batch_videos, batch_labels in train_loader:\n",
    "    print(\"Train batch shape:\", batch_videos.shape)  # (B, T, C, H, W)\n",
    "    print(\"Train labels:\", batch_labels)\n",
    "    break\n",
    "for batch_videos, batch_labels in val_loader:\n",
    "    print(\"Train batch shape:\", batch_videos.shape)  # (B, T, C, H, W)\n",
    "    print(\"Train labels:\", batch_labels)\n",
    "    break\n",
    "for batch_videos, batch_labels in test_loader:\n",
    "    print(\"Train batch shape:\", batch_videos.shape)  # (B, T, C, H, W)\n",
    "    print(\"Train labels:\", batch_labels)\n",
    "    break"
   ]
  },
  {
   "cell_type": "markdown",
   "metadata": {},
   "source": [
    "# Model Build"
   ]
  },
  {
   "cell_type": "markdown",
   "metadata": {},
   "source": [
    "**Video-->Normalized Frames ---> Swin S Transformer (Train head , freeze Rest) ---> Prediction**"
   ]
  },
  {
   "cell_type": "code",
   "execution_count": 8,
   "metadata": {
    "execution": {
     "iopub.execute_input": "2025-06-01T12:28:15.414085Z",
     "iopub.status.busy": "2025-06-01T12:28:15.413776Z",
     "iopub.status.idle": "2025-06-01T12:28:16.161374Z",
     "shell.execute_reply": "2025-06-01T12:28:16.160783Z",
     "shell.execute_reply.started": "2025-06-01T12:28:15.414046Z"
    },
    "trusted": true
   },
   "outputs": [
    {
     "name": "stdout",
     "output_type": "stream",
     "text": [
      "cuda\n"
     ]
    }
   ],
   "source": [
    "# An advanced version of swin 2D , here temporal and spatial dependencies are jointly computed, instead of \n",
    "# independent frame by frame computation in swin2D (additional LSTM/Transformer nedded for temporal dependencies).\n",
    "\n",
    "from torchvision.models.video import swin3d_t\n",
    "\n",
    "class VDC(nn.Module):\n",
    "    def __init__(self,num_classes=1):\n",
    "        super(VDC,self).__init__()\n",
    "\n",
    "        self.backbone=swin3d_t(progress=True)\n",
    "\n",
    "        #Freeze the backbone\n",
    "        for params in self.backbone.parameters():\n",
    "            params.requires_grad=False\n",
    "    #     # Unfreeze the selectives\n",
    "    #     for name, param in self.backbone.features[6].named_parameters():\n",
    "    #         param.requires_grad = True\n",
    "\n",
    "    # # Unfreeze final normalization layer\n",
    "    #     for name, param in self.backbone.norm.named_parameters():\n",
    "    #         param.requires_grad = True\n",
    "            \n",
    "        #By default all layers are requires_grad= True : Train the head\n",
    "        # small head\n",
    "        self.backbone.head=nn.Sequential(\n",
    "            # 768 is a dimensional vector , not feature map alike in CNNs\n",
    "            # [b,t,c,h,w]=====[4,16,224,224]------->[4,16,768,7,7]--->Avg.Pooling---->[768*1] vector dim\n",
    "            nn.Linear( 768, 192), \n",
    "            nn.BatchNorm1d(192),\n",
    "            nn.ReLU(),\n",
    "            nn.Linear(192,32),\n",
    "            nn.BatchNorm1d(32),\n",
    "            nn.ReLU(),\n",
    "            nn.Linear(32,num_classes)\n",
    "            \n",
    "        ) # Freezing weights except the classifier head...-> Will only train the head .\n",
    "\n",
    "    def forward(self,x):\n",
    "        return self.backbone(x).squeeze(1)\n",
    "\n",
    "device= \"cuda\" if torch.cuda.is_available() else \"cpu\"\n",
    "print(device)\n",
    "\n",
    "model=VDC().to(device)"
   ]
  },
  {
   "cell_type": "code",
   "execution_count": 9,
   "metadata": {
    "execution": {
     "iopub.execute_input": "2025-06-01T12:28:16.162366Z",
     "iopub.status.busy": "2025-06-01T12:28:16.162105Z",
     "iopub.status.idle": "2025-06-01T12:28:16.166034Z",
     "shell.execute_reply": "2025-06-01T12:28:16.165324Z",
     "shell.execute_reply.started": "2025-06-01T12:28:16.162344Z"
    },
    "trusted": true
   },
   "outputs": [],
   "source": [
    "# print(\"Trainanble layers are:\")\n",
    "# for name, param in model.named_parameters():\n",
    "#         if param.requires_grad:\n",
    "#             print(name)"
   ]
  },
  {
   "cell_type": "markdown",
   "metadata": {},
   "source": [
    "# Training and Validation"
   ]
  },
  {
   "cell_type": "code",
   "execution_count": null,
   "metadata": {
    "trusted": true
   },
   "outputs": [],
   "source": [
    "# Hyper Parameters\n",
    "\n",
    "loss_fn = nn.BCEWithLogitsLoss() # Sigmoid inbuilt , so not used explicitly in the model\n",
    "base_lr=.001\n",
    "optimizer = torch.optim.AdamW(filter(lambda x: x.requires_grad, model.parameters()),lr=base_lr)\n",
    "scheduler = torch.optim.lr_scheduler.ReduceLROnPlateau(optimizer, mode='min', patience=3, verbose=True)\n",
    "epochs = 100\n",
    "patience = 5\n",
    "best_val_acc = 0.0\n",
    "patience_counter = 0\n",
    "best_model_state = None\n",
    "\n",
    "# Metrics\n",
    "train_metric = Accuracy(task=\"binary\").to(device)\n",
    "val_metric = Accuracy(task=\"binary\").to(device)\n",
    "\n",
    "# Training loop\n",
    "for epoch in range(1, epochs + 1):\n",
    "    model.train()\n",
    "    train_metric.reset()\n",
    "    total_train_loss = 0.0\n",
    "\n",
    "    train_loader_tqdm = tqdm(train_loader, desc=f\"Epoch {epoch}/{epochs} [Training]\", leave=False)\n",
    "    for batch_idx, (x, y) in enumerate(train_loader_tqdm):\n",
    "        x = x.to(device) #[B,T,C,H,W]\n",
    "        y = y.float().to(device) # since all needs to be of same dtype , previously it was long\n",
    "        x=x.permute(0,2,1,3,4).to(device) #[b,c,t,h,w]\n",
    "        \n",
    "        optimizer.zero_grad()\n",
    "        output = model(x)\n",
    "        loss = loss_fn(output, y)\n",
    "        loss.backward()\n",
    "        # nn.utils.clip_grad_norm(model.parameters(),max_norm=1.0)\n",
    "        optimizer.step()\n",
    "\n",
    "        train_metric.update(output, y)\n",
    "        total_train_loss += loss.item()\n",
    "\n",
    "        if (batch_idx + 1) % 10 == 0:\n",
    "            train_loader_tqdm.set_postfix(loss=loss.item())\n",
    "\n",
    "    train_acc = train_metric.compute()\n",
    "    avg_train_loss = total_train_loss / len(train_loader)\n",
    "\n",
    "    # Validation\n",
    "    model.eval()\n",
    "    val_metric.reset()\n",
    "    total_val_loss = 0.0\n",
    "\n",
    "    with torch.no_grad():\n",
    "        val_loader_tqdm = tqdm(val_loader, desc=f\"Epoch {epoch}/{epochs} [Validation]\", leave=False)\n",
    "        for x, y in val_loader_tqdm:\n",
    "            x = x.to(device)\n",
    "            y = y.float().to(device)\n",
    "            x=x.permute(0,2,1,3,4).to(device) #[b,c,t,h,w]\n",
    "            \n",
    "            preds = model(x)\n",
    "            val_loss = loss_fn(preds, y)\n",
    "            total_val_loss += val_loss.item()\n",
    "            val_metric.update(preds, y)\n",
    "\n",
    "    val_acc = val_metric.compute()\n",
    "    avg_val_loss = total_val_loss / len(val_loader)\n",
    "\n",
    "    # Reduce LR scheduler\n",
    "    scheduler.step(avg_val_loss)\n",
    "\n",
    "    # Logging\n",
    "    if epoch % 2 == 0 or epoch == 1:\n",
    "        print(f\"Epoch {epoch}/{epochs} | Train Loss: {avg_train_loss:.4f} | Val Loss: {avg_val_loss:.4f} | \"\n",
    "              f\"Train Acc: {train_acc:.4f} | Val ACC: {val_acc:.4f}\")\n",
    "\n",
    "    # Early stopping\n",
    "    if val_acc > best_val_acc:\n",
    "        best_val_acc = val_acc\n",
    "        patience_counter = 0\n",
    "        best_model_state = model.state_dict()\n",
    "    else:\n",
    "        patience_counter += 1\n",
    "        if patience_counter >= patience:\n",
    "            print(f\"\\nEarly stopping at epoch {epoch}. Best Val ACC: {best_val_acc:.4f}\")\n",
    "            if best_model_state is not None:\n",
    "                torch.save(best_model_state, 'VD_classification.pt')\n",
    "                model.load_state_dict(best_model_state)\n",
    "            break"
   ]
  },
  {
   "cell_type": "markdown",
   "metadata": {},
   "source": [
    "# Testing"
   ]
  },
  {
   "cell_type": "code",
   "execution_count": 20,
   "metadata": {
    "execution": {
     "iopub.execute_input": "2025-06-01T12:40:34.656146Z",
     "iopub.status.busy": "2025-06-01T12:40:34.655803Z",
     "iopub.status.idle": "2025-06-01T12:40:36.442790Z",
     "shell.execute_reply": "2025-06-01T12:40:36.441980Z",
     "shell.execute_reply.started": "2025-06-01T12:40:34.656114Z"
    },
    "trusted": true
   },
   "outputs": [
    {
     "name": "stdout",
     "output_type": "stream",
     "text": [
      "torch.Size([4, 16, 3, 224, 224])\n",
      "torch.Size([4, 16, 3, 224, 224])\n",
      "torch.Size([3, 16, 3, 224, 224])\n"
     ]
    }
   ],
   "source": [
    "for x,y in test_loader:\n",
    "    print(x.shape)\n"
   ]
  },
  {
   "cell_type": "code",
   "execution_count": null,
   "metadata": {
    "execution": {
     "iopub.execute_input": "2025-06-01T12:40:22.786766Z",
     "iopub.status.busy": "2025-06-01T12:40:22.786244Z",
     "iopub.status.idle": "2025-06-01T12:40:25.021281Z",
     "shell.execute_reply": "2025-06-01T12:40:25.020365Z",
     "shell.execute_reply.started": "2025-06-01T12:40:22.786736Z"
    },
    "trusted": true
   },
   "outputs": [
    {
     "name": "stdout",
     "output_type": "stream",
     "text": [
      "tensor([0, 0, 1, 1], device='cuda:0')\n",
      "tensor([0, 1, 0, 1], device='cuda:0')\n",
      "tensor([1, 0, 1], device='cuda:0')\n"
     ]
    }
   ],
   "source": [
    "with torch.no_grad():\n",
    "    for x, y in test_loader:\n",
    "        x = x.to(device)\n",
    "        y = y.float().to(device)\n",
    "        x=x.permute(0,2,1,3,4).to(device) #[b,c,t,h,w]\n",
    "        \n",
    "        preds = model(x)\n",
    "        predictions=preds.squeeze()\n",
    "        \n",
    "        predictions=torch.sigmoid(predictions) # using sigmoid explicitly for , it's absence in the architecture.\n",
    "        predictions=(predictions>=.5).long()\n",
    "        print(predictions)"
   ]
  },
  {
   "cell_type": "code",
   "execution_count": null,
   "metadata": {
    "trusted": true
   },
   "outputs": [],
   "source": []
  }
 ],
 "metadata": {
  "kaggle": {
   "accelerator": "gpu",
   "dataSources": [
    {
     "datasetId": 176381,
     "sourceId": 397693,
     "sourceType": "datasetVersion"
    }
   ],
   "dockerImageVersionId": 31040,
   "isGpuEnabled": true,
   "isInternetEnabled": true,
   "language": "python",
   "sourceType": "notebook"
  },
  "kernelspec": {
   "display_name": "Python 3",
   "language": "python",
   "name": "python3"
  },
  "language_info": {
   "codemirror_mode": {
    "name": "ipython",
    "version": 3
   },
   "file_extension": ".py",
   "mimetype": "text/x-python",
   "name": "python",
   "nbconvert_exporter": "python",
   "pygments_lexer": "ipython3",
   "version": "3.11.11"
  }
 },
 "nbformat": 4,
 "nbformat_minor": 4
}
